{
 "cells": [
  {
   "cell_type": "markdown",
   "metadata": {},
   "source": [
    "<div class=\"alert alert-block alert-success\">\n",
    "<b>Comentario general del revisor</b> <a class=\"tocSkip\"></a><br />\n",
    "Status del proyecto: <b>Aprobado</b>\n",
    "    \n",
    "Continúa con el buen trabajo y mucho éxito en el siguiente Sprint!\n",
    "</div>\n"
   ]
  },
  {
   "cell_type": "markdown",
   "metadata": {},
   "source": [
    "¡Hola!<br />\n",
    "Soy **Francisco Cortés**, estoy contento de revisar tu proyecto y ser parte de tu proceso de aprendizaje.\n",
    "A lo largo del texto, haré algunas observaciones sobre mejoras en el código y también haré comentarios sobre tus percepciones sobre el tema. Si existe algún error en el código, no te preocupes, estoy aquí para ayudarte a mejorarlo, en la primera iteración te lo señalaré para que tengas la oportunidad de corregirlo, pero si aún no encuentras una solución para esta tarea, te daré una pista más precisa en la próxima iteración y también algunos ejemplos prácticos. Estaré abierto a retroalimentación y discusiones sobre el tema.<br />\n",
    "Encontrarás mis comentarios a continuación - **por favor no los muevas, modifiques o borres**.\n",
    "Revisaré cuidadosamente tu código para comprobar que se han cumplido con los requisitos y te proporcionaré mis comentarios en cajas verdes, amarillas o rojas como esta:\n",
    "\n",
    "<div class=\"alert alert-block alert-success\">\n",
    "<b>Comentario del revisor</b> <a class=\"tocSkip\"></a>\n",
    "\n",
    "Si la ejecución fue perfecta succesfully.\n",
    "</div>\n",
    "\n",
    "<div class=\"alert alert-block alert-warning\">\n",
    "<b>Comentario del revisor</b> <a class=\"tocSkip\"></a>\n",
    "\n",
    "Si existe alguna recomendación para que tu código mejore.\n",
    "</div>\n",
    "\n",
    "<div class=\"alert alert-block alert-danger\">\n",
    "\n",
    "<b>Comentario del revisor</b> <a class=\"tocSkip\"></a>\n",
    "\n",
    "Si existen correcciones necesarias para cumplir con los requisitos. El trabajo no puede ser aceptado si hay alguna caja roja.\n",
    "</div>\n",
    "\n",
    "Puedes responderme de la siguiente manera:\n",
    "\n",
    "<div class=\"alert alert-block alert-info\">\n",
    "<b>Respuesta del estudiante.</b> <a class=\"tocSkip\"></a>\n",
    "</div>"
   ]
  },
  {
   "cell_type": "markdown",
   "metadata": {},
   "source": [
    "# Sprint 11"
   ]
  },
  {
   "cell_type": "markdown",
   "metadata": {},
   "source": [
    "## Paso 1. Abrir el archivo de datos y leer la información general"
   ]
  },
  {
   "cell_type": "code",
   "execution_count": 1,
   "metadata": {},
   "outputs": [
    {
     "name": "stderr",
     "output_type": "stream",
     "text": [
      "/tmp/ipykernel_32/3892741716.py:3: ParserWarning: Falling back to the 'python' engine because the 'c' engine does not support regex separators (separators > 1 char and different from '\\s+' are interpreted as regex); you can avoid this warning by specifying engine='python'.\n",
      "  df_logs = pd.read_csv('/datasets/logs_exp_us.csv', sep='\\\\t')\n"
     ]
    },
    {
     "name": "stdout",
     "output_type": "stream",
     "text": [
      "                 EventName         DeviceIDHash  EventTimestamp  ExpId\n",
      "0         MainScreenAppear  4575588528974610257      1564029816    246\n",
      "1         MainScreenAppear  7416695313311560658      1564053102    246\n",
      "2  PaymentScreenSuccessful  3518123091307005509      1564054127    248\n",
      "3         CartScreenAppear  3518123091307005509      1564054127    248\n",
      "4  PaymentScreenSuccessful  6217807653094995999      1564055322    248\n",
      "\n",
      "<class 'pandas.core.frame.DataFrame'>\n",
      "RangeIndex: 244126 entries, 0 to 244125\n",
      "Data columns (total 4 columns):\n",
      " #   Column          Non-Null Count   Dtype \n",
      "---  ------          --------------   ----- \n",
      " 0   EventName       244126 non-null  object\n",
      " 1   DeviceIDHash    244126 non-null  int64 \n",
      " 2   EventTimestamp  244126 non-null  int64 \n",
      " 3   ExpId           244126 non-null  int64 \n",
      "dtypes: int64(3), object(1)\n",
      "memory usage: 7.5+ MB\n",
      "None\n"
     ]
    }
   ],
   "source": [
    "import pandas as pd\n",
    "\n",
    "df_logs = pd.read_csv('/datasets/logs_exp_us.csv', sep='\\\\t')\n",
    "print(df_logs.head(5))\n",
    "print()\n",
    "print(df_logs.info())"
   ]
  },
  {
   "cell_type": "markdown",
   "metadata": {},
   "source": [
    "<div class=\"alert alert-block alert-success\"> <b>Comentario del revisor</b> <a class=\"tocSkip\"></a><br>\n",
    "\n",
    "Correcto!<br/>\n",
    "\n",
    "Buena manera de leer los datos utilizando el separador correcto.\n",
    "</div>"
   ]
  },
  {
   "cell_type": "markdown",
   "metadata": {},
   "source": [
    "## Paso 2. Preparar los datos para el análisis"
   ]
  },
  {
   "cell_type": "code",
   "execution_count": 4,
   "metadata": {},
   "outputs": [
    {
     "name": "stdout",
     "output_type": "stream",
     "text": [
      "                event_name              user_id  event_time  exp_id\n",
      "0         MainScreenAppear  4575588528974610257  1564029816     246\n",
      "1         MainScreenAppear  7416695313311560658  1564053102     246\n",
      "2  PaymentScreenSuccessful  3518123091307005509  1564054127     248\n",
      "3         CartScreenAppear  3518123091307005509  1564054127     248\n",
      "4  PaymentScreenSuccessful  6217807653094995999  1564055322     248\n"
     ]
    }
   ],
   "source": [
    "# Cambia el nombre de las columnas de manera que sea conveniente para ti [\"event_name\", \"user_id\", \"event_time\", \"exp_id\"]\n",
    "\n",
    "df_logs = df_logs.rename(columns={'EventName': 'event_name', 'DeviceIDHash': 'user_id', 'EventTimestamp': 'event_time', 'ExpId': 'exp_id'})\n",
    "print(df_logs.head(5))"
   ]
  },
  {
   "cell_type": "code",
   "execution_count": 5,
   "metadata": {},
   "outputs": [
    {
     "name": "stdout",
     "output_type": "stream",
     "text": [
      "<class 'pandas.core.frame.DataFrame'>\n",
      "RangeIndex: 244126 entries, 0 to 244125\n",
      "Data columns (total 4 columns):\n",
      " #   Column      Non-Null Count   Dtype \n",
      "---  ------      --------------   ----- \n",
      " 0   event_name  244126 non-null  object\n",
      " 1   user_id     244126 non-null  int64 \n",
      " 2   event_time  244126 non-null  int64 \n",
      " 3   exp_id      244126 non-null  int64 \n",
      "dtypes: int64(3), object(1)\n",
      "memory usage: 7.5+ MB\n"
     ]
    }
   ],
   "source": [
    "# Comprueba los tipos de datos y valores ausentes. Corrige los datos si es necesario.\n",
    "\n",
    "df_logs.info()"
   ]
  },
  {
   "cell_type": "code",
   "execution_count": 6,
   "metadata": {},
   "outputs": [
    {
     "name": "stdout",
     "output_type": "stream",
     "text": [
      "                event_name              user_id  event_time  exp_id\n",
      "0         MainScreenAppear  4575588528974610257  1564029816     246\n",
      "1         MainScreenAppear  7416695313311560658  1564053102     246\n",
      "2  PaymentScreenSuccessful  3518123091307005509  1564054127     248\n",
      "3         CartScreenAppear  3518123091307005509  1564054127     248\n",
      "4  PaymentScreenSuccessful  6217807653094995999  1564055322     248\n"
     ]
    }
   ],
   "source": [
    "# Convertir el la \"user_id\" a tipo de dato string\n",
    "\n",
    "df_logs['user_id'] = df_logs['user_id'].astype(str)\n",
    "print(df_logs.head(5))"
   ]
  },
  {
   "cell_type": "code",
   "execution_count": 7,
   "metadata": {},
   "outputs": [
    {
     "name": "stdout",
     "output_type": "stream",
     "text": [
      "event_name    0\n",
      "user_id       0\n",
      "event_time    0\n",
      "exp_id        0\n",
      "dtype: int64\n",
      "event_name    object\n",
      "user_id       object\n",
      "event_time     int64\n",
      "exp_id         int64\n",
      "dtype: object\n"
     ]
    }
   ],
   "source": [
    "# Encuentra valores faltantes en las columnas 'event_name', 'exp_id' o 'user_id'\n",
    "\n",
    "print(df_logs.isnull().sum())\n",
    "\n",
    "# Verifica los tipos de datos en las columnas 'event_name', 'exp_id' o 'user_id'\n",
    "\n",
    "print(df_logs.dtypes)"
   ]
  },
  {
   "cell_type": "code",
   "execution_count": 8,
   "metadata": {},
   "outputs": [
    {
     "name": "stdout",
     "output_type": "stream",
     "text": [
      "                event_name              user_id          event_time  exp_id\n",
      "0         MainScreenAppear  4575588528974610257 2019-07-25 04:43:36     246\n",
      "1         MainScreenAppear  7416695313311560658 2019-07-25 11:11:42     246\n",
      "2  PaymentScreenSuccessful  3518123091307005509 2019-07-25 11:28:47     248\n",
      "3         CartScreenAppear  3518123091307005509 2019-07-25 11:28:47     248\n",
      "4  PaymentScreenSuccessful  6217807653094995999 2019-07-25 11:48:42     248\n"
     ]
    }
   ],
   "source": [
    "# Cambia el tipo de dato de la columna event_time al formato fecha\n",
    "\n",
    "df_logs['event_time'] = pd.to_datetime(df_logs['event_time'], unit='s')\n",
    "print(df_logs.head(5))"
   ]
  },
  {
   "cell_type": "code",
   "execution_count": 9,
   "metadata": {},
   "outputs": [
    {
     "name": "stdout",
     "output_type": "stream",
     "text": [
      "                event_name              user_id          event_time  exp_id  \\\n",
      "0         MainScreenAppear  4575588528974610257 2019-07-25 04:43:36     246   \n",
      "1         MainScreenAppear  7416695313311560658 2019-07-25 11:11:42     246   \n",
      "2  PaymentScreenSuccessful  3518123091307005509 2019-07-25 11:28:47     248   \n",
      "3         CartScreenAppear  3518123091307005509 2019-07-25 11:28:47     248   \n",
      "4  PaymentScreenSuccessful  6217807653094995999 2019-07-25 11:48:42     248   \n",
      "\n",
      "        fecha  \n",
      "0  2019-07-25  \n",
      "1  2019-07-25  \n",
      "2  2019-07-25  \n",
      "3  2019-07-25  \n",
      "4  2019-07-25  \n"
     ]
    }
   ],
   "source": [
    "# Agrega una columna de fecha y hora y una columna separada para las fechas.\n",
    "\n",
    "df_logs['fecha'] = df_logs['event_time'].dt.date\n",
    "print(df_logs.head(5))"
   ]
  },
  {
   "cell_type": "markdown",
   "metadata": {},
   "source": [
    "<div class=\"alert alert-block alert-success\"> <b>Comentario del revisor</b> <a class=\"tocSkip\"></a><br>\n",
    "\n",
    "Correcto!<br/>\n",
    "\n",
    "Buena manera de hacer un cambio a los tipos de datos de las columnas y renombrarlas.\n",
    "</div>"
   ]
  },
  {
   "cell_type": "markdown",
   "metadata": {},
   "source": [
    "## Paso 3. Estudiar y comprobar los datos"
   ]
  },
  {
   "cell_type": "code",
   "execution_count": 10,
   "metadata": {},
   "outputs": [
    {
     "name": "stdout",
     "output_type": "stream",
     "text": [
      "Tenemos 5 eventos en los registros: ['MainScreenAppear' 'PaymentScreenSuccessful' 'CartScreenAppear'\n",
      " 'OffersScreenAppear' 'Tutorial']\n"
     ]
    }
   ],
   "source": [
    "# ¿Cuántos eventos hay en los registros?\n",
    "\n",
    "print('Tenemos 5 eventos en los registros:', df_logs['event_name'].unique())"
   ]
  },
  {
   "cell_type": "code",
   "execution_count": 11,
   "metadata": {},
   "outputs": [
    {
     "name": "stdout",
     "output_type": "stream",
     "text": [
      "Tenemos 7551 usuarios en los registros.\n"
     ]
    }
   ],
   "source": [
    "# ¿Cuántos usuarios hay en los registros?\n",
    "\n",
    "print('Tenemos', df_logs['user_id'].nunique(), 'usuarios en los registros.')"
   ]
  },
  {
   "cell_type": "code",
   "execution_count": 12,
   "metadata": {},
   "outputs": [
    {
     "name": "stdout",
     "output_type": "stream",
     "text": [
      "El promedio de eventos por usuario es: 32.33028737915508\n"
     ]
    }
   ],
   "source": [
    "# ¿Cuál es el promedio de eventos por usuario?\n",
    "\n",
    "print('El promedio de eventos por usuario es:', df_logs.groupby('user_id')['event_name'].count().mean())"
   ]
  },
  {
   "cell_type": "code",
   "execution_count": 13,
   "metadata": {},
   "outputs": [
    {
     "name": "stdout",
     "output_type": "stream",
     "text": [
      "La fecha mínima es: 2019-07-25 04:43:36\n",
      "La fecha máxima es: 2019-08-07 21:15:17\n",
      "\n",
      "El periodo que abarcan las fechas es de: 13 days 16:31:41\n"
     ]
    }
   ],
   "source": [
    "# ¿Qué periodo de tiempo cubren los datos? Encuentra la fecha máxima y mínima.\n",
    "\n",
    "min_date = df_logs['event_time'].min()\n",
    "max_date = df_logs['event_time'].max()\n",
    "print('La fecha mínima es:', min_date)\n",
    "print('La fecha máxima es:', max_date)\n",
    "print()\n",
    "print('El periodo que abarcan las fechas es de:', max_date - min_date)"
   ]
  },
  {
   "cell_type": "code",
   "execution_count": 14,
   "metadata": {},
   "outputs": [
    {
     "data": {
      "text/plain": [
       "<AxesSubplot:>"
      ]
     },
     "execution_count": 14,
     "metadata": {},
     "output_type": "execute_result"
    },
    {
     "data": {
      "image/png": "[encoded data removed]",
      "text/plain": [
       "<Figure size 1500x500 with 1 Axes>"
      ]
     },
     "metadata": {},
     "output_type": "display_data"
    }
   ],
   "source": [
    "# Traza un histograma por fecha y hora (columna event_time).\n",
    "\n",
    "df_logs['event_time'].hist(bins=100, figsize=(15,5))"
   ]
  },
  {
   "cell_type": "markdown",
   "metadata": {},
   "source": [
    "<div class=\"alert alert-block alert-success\"> <b>Comentario del revisor</b> <a class=\"tocSkip\"></a><br>\n",
    "\n",
    "Bien hecho!<br/>\n",
    "\n",
    "La manera en que se muestran los datos en el histograma es correcta.\n",
    "</div>"
   ]
  },
  {
   "cell_type": "markdown",
   "metadata": {},
   "source": [
    "¿Puedes tener seguridad de que tienes datos igualmente completos para todo el periodo? Los eventos más antiguos podrían terminar en los registros de algunos usuarios por razones técnicas y esto podría sesgar el panorama general.Encuentra el momento en el que los datos comienzan a estar completos e ignora la sección anterior. ¿Qué periodo representan realmente los datos?\n",
    "\n",
    "Podemos ver que el momento en el que los datos empiezan a estar completos es a partir del 31 de julio."
   ]
  },
  {
   "cell_type": "code",
   "execution_count": 15,
   "metadata": {},
   "outputs": [
    {
     "name": "stdout",
     "output_type": "stream",
     "text": [
      "           event_name              user_id          event_time  exp_id  \\\n",
      "0            Tutorial  3737462046622621720 2019-08-01 00:07:28     246   \n",
      "1    MainScreenAppear  3737462046622621720 2019-08-01 00:08:00     246   \n",
      "2    MainScreenAppear  3737462046622621720 2019-08-01 00:08:55     246   \n",
      "3  OffersScreenAppear  3737462046622621720 2019-08-01 00:08:58     246   \n",
      "4    MainScreenAppear  1433840883824088890 2019-08-01 00:08:59     247   \n",
      "\n",
      "        fecha  \n",
      "0  2019-08-01  \n",
      "1  2019-08-01  \n",
      "2  2019-08-01  \n",
      "3  2019-08-01  \n",
      "4  2019-08-01  \n",
      "\n",
      "<class 'pandas.core.frame.DataFrame'>\n",
      "RangeIndex: 241298 entries, 0 to 241297\n",
      "Data columns (total 5 columns):\n",
      " #   Column      Non-Null Count   Dtype         \n",
      "---  ------      --------------   -----         \n",
      " 0   event_name  241298 non-null  object        \n",
      " 1   user_id     241298 non-null  object        \n",
      " 2   event_time  241298 non-null  datetime64[ns]\n",
      " 3   exp_id      241298 non-null  int64         \n",
      " 4   fecha       241298 non-null  object        \n",
      "dtypes: datetime64[ns](1), int64(1), object(3)\n",
      "memory usage: 9.2+ MB\n",
      "None\n"
     ]
    }
   ],
   "source": [
    "# Eliminamos los datos que en sean < a la fecha 2019-08-01.\n",
    "\n",
    "df_logs = df_logs[df_logs['event_time'] >= '2019-08-01'].reset_index(drop=True)\n",
    "print(df_logs.head(5))\n",
    "print()\n",
    "print(df_logs.info())"
   ]
  },
  {
   "cell_type": "markdown",
   "metadata": {},
   "source": [
    "<div class=\"alert alert-block alert-success\"> <b>Comentario del revisor</b> <a class=\"tocSkip\"></a><br>\n",
    "\n",
    "Correcto!<br/>\n",
    "\n",
    "Los datos han sido seleccionados basandote en los hallazgos anteriores\n",
    "</div>"
   ]
  },
  {
   "cell_type": "markdown",
   "metadata": {},
   "source": [
    "¿Perdiste muchos eventos y usuarios al excluir los datos más antiguos?\n",
    "\n",
    "No se perdieron muchos datos, tenemos un total de 241298 líneas de las 244126 que teníamos al principio eliminando los datos anteriores al 31 de julio de 2019."
   ]
  },
  {
   "cell_type": "code",
   "execution_count": 17,
   "metadata": {},
   "outputs": [
    {
     "data": {
      "text/plain": [
       "array([246, 247, 248])"
      ]
     },
     "execution_count": 17,
     "metadata": {},
     "output_type": "execute_result"
    }
   ],
   "source": [
    "# Asegúrate de tener usuarios de los tres grupos experimentales.\n",
    "df_logs['exp_id'].unique()"
   ]
  },
  {
   "cell_type": "markdown",
   "metadata": {},
   "source": [
    "## Paso 4. Estudiar el embudo de eventos"
   ]
  },
  {
   "cell_type": "code",
   "execution_count": 18,
   "metadata": {},
   "outputs": [
    {
     "name": "stdout",
     "output_type": "stream",
     "text": [
      "MainScreenAppear           117431\n",
      "OffersScreenAppear          46350\n",
      "CartScreenAppear            42365\n",
      "PaymentScreenSuccessful     34113\n",
      "Tutorial                     1039\n",
      "Name: event_name, dtype: int64\n",
      "\n",
      "          event_name              user_id          event_time  exp_id  \\\n",
      "0   MainScreenAppear  5387094564511646555 2019-08-06 20:05:07     248   \n",
      "1   MainScreenAppear  3077347585945449403 2019-08-04 03:51:40     247   \n",
      "2   MainScreenAppear  3663291270136112912 2019-08-04 03:50:40     247   \n",
      "3   MainScreenAppear  6395544220042674604 2019-08-06 16:17:48     247   \n",
      "4   MainScreenAppear  6930800739214500166 2019-08-06 16:17:46     246   \n",
      "5   MainScreenAppear  8171264792925263061 2019-08-04 03:51:16     246   \n",
      "6   MainScreenAppear  5169134838889734460 2019-08-06 16:17:46     248   \n",
      "7   MainScreenAppear  8871118565162926421 2019-08-04 03:51:30     248   \n",
      "8   MainScreenAppear  9182444363400946277 2019-08-04 03:52:32     247   \n",
      "9   MainScreenAppear   780131361822969739 2019-08-04 03:46:08     247   \n",
      "10  MainScreenAppear  1441736948778210919 2019-08-04 03:52:35     246   \n",
      "11  MainScreenAppear  8871118565162926421 2019-08-04 03:52:56     248   \n",
      "12  MainScreenAppear  2401361659688185199 2019-08-04 03:52:56     248   \n",
      "13  MainScreenAppear  8871118565162926421 2019-08-04 03:53:02     248   \n",
      "14  MainScreenAppear   328146365833208502 2019-08-04 03:54:10     248   \n",
      "\n",
      "         fecha  frecuencia  \n",
      "0   2019-08-06      117431  \n",
      "1   2019-08-04      117431  \n",
      "2   2019-08-04      117431  \n",
      "3   2019-08-06      117431  \n",
      "4   2019-08-06      117431  \n",
      "5   2019-08-04      117431  \n",
      "6   2019-08-06      117431  \n",
      "7   2019-08-04      117431  \n",
      "8   2019-08-04      117431  \n",
      "9   2019-08-04      117431  \n",
      "10  2019-08-04      117431  \n",
      "11  2019-08-04      117431  \n",
      "12  2019-08-04      117431  \n",
      "13  2019-08-04      117431  \n",
      "14  2019-08-04      117431  \n"
     ]
    }
   ],
   "source": [
    "# Observa qué eventos hay en los registros y su frecuencia de suceso. Ordénalos por frecuencia.\n",
    "\n",
    "print(df_logs['event_name'].value_counts())\n",
    "print()\n",
    "df_logs_event = df_logs['event_name'].value_counts() #  conteo de ocurrencias de cada valor único en la columna event_name\n",
    "df_logs['frecuencia'] = df_logs['event_name'].map(df_logs_event) #creamos una nueva columna con la frecuencia de ocurrencia de cada valor en la columna event_name\n",
    "df_logs_ordenado = df_logs.sort_values(by='frecuencia', ascending=False).reset_index(drop=True)\n",
    "print(df_logs_ordenado.head(15))"
   ]
  },
  {
   "cell_type": "code",
   "execution_count": 19,
   "metadata": {},
   "outputs": [
    {
     "name": "stdout",
     "output_type": "stream",
     "text": [
      "event_name\n",
      "CartScreenAppear           3734\n",
      "MainScreenAppear           7419\n",
      "OffersScreenAppear         4593\n",
      "PaymentScreenSuccessful    3539\n",
      "Tutorial                    840\n",
      "Name: user_id, dtype: int64\n",
      "\n",
      "event_name\n",
      "MainScreenAppear           7419\n",
      "OffersScreenAppear         4593\n",
      "CartScreenAppear           3734\n",
      "PaymentScreenSuccessful    3539\n",
      "Tutorial                    840\n",
      "Name: user_id, dtype: int64\n",
      "\n",
      "La proporción de usuarios que realizaron la acción \"MainScreenAppear\" al menos una vez es: 0.98\n",
      "La proporción de usuarios que realizaron la acción \"OffersScreenAppear\" al menos una vez es: 0.61\n",
      "La proporción de usuarios que realizaron la acción \"CartScreenAppear\" al menos una vez es: 0.50\n",
      "La proporción de usuarios que realizaron la acción \"PaymentScreenSuccessful\" al menos una vez es: 0.47\n",
      "La proporción de usuarios que realizaron la acción \"Tutorial\" al menos una vez es: 0.11\n"
     ]
    }
   ],
   "source": [
    "# Encuentra la cantidad de usuarios que realizaron cada una de estas acciones.\n",
    "\n",
    "print(df_logs_ordenado.groupby('event_name')['user_id'].nunique())\n",
    "\n",
    "# Ordena los eventos por el número de usuarios.\n",
    "\n",
    "print()\n",
    "embudo_df_logs= df_logs_ordenado.groupby('event_name')['user_id'].nunique().sort_values(ascending=False)\n",
    "print(embudo_df_logs)\n",
    "\n",
    "# Calcula la proporción de usuarios que realizaron la acción al menos una vez.\n",
    "\n",
    "# Iteramos sobre cada evento único en el DataFrame y calculamos la proporción de usuarios que realizaron cada evento\n",
    "print()\n",
    "for event in df_logs_ordenado['event_name'].unique():\n",
    "    users = df_logs_ordenado[df_logs_ordenado['event_name'] == event]['user_id'].nunique() # Usuarios por evento\n",
    "    total_users = df_logs_ordenado['user_id'].nunique() # Usuarios totales en el df\n",
    "    proportion = users / total_users\n",
    "    print(f'La proporción de usuarios que realizaron la acción \"{event}\" al menos una vez es: {proportion:.2f}') # Proporción a dos decimales"
   ]
  },
  {
   "cell_type": "code",
   "execution_count": 20,
   "metadata": {},
   "outputs": [
    {
     "data": {
      "image/png": "[encoded data removed]",
      "text/plain": [
       "<Figure size 640x480 with 1 Axes>"
      ]
     },
     "metadata": {},
     "output_type": "display_data"
    }
   ],
   "source": [
    "# ¿En qué orden crees que ocurrieron las acciones? ¿Todas son parte de una sola secuencia? No es necesario tenerlas en cuenta al calcular el embudo.\n",
    "\n",
    "import seaborn as sns\n",
    "import matplotlib.pyplot as plt\n",
    "\n",
    "data = {\n",
    "    'Stage': ['MainScreenAppear', 'OffersScreenAppear', 'CartScreenAppear', 'PaymentScreenSuccessful', 'Tutorial'],\n",
    "    'Quantity': [7419, 4593, 3734, 3539, 840]\n",
    "}\n",
    "\n",
    "df = pd.DataFrame(data)\n",
    "\n",
    "# Hacer que el fondo sea oscuro\n",
    "plt.style.use(\"dark_background\")\n",
    "\n",
    "# Crear un gráfico de barras utilizando la librería seaborn\n",
    "sns.barplot(x='Stage', y='Quantity', data=df)\n",
    "\n",
    "# Agregar etiquetas y título al gráfico, rotar eje x 90°\n",
    "plt.xlabel('Stage')\n",
    "plt.ylabel('Quantity')\n",
    "plt.title('Embudo de Eventos')\n",
    "plt.xticks(rotation=45)\n",
    "\n",
    "# Mostrar el gráfico\n",
    "plt.show()"
   ]
  },
  {
   "cell_type": "code",
   "execution_count": 21,
   "metadata": {},
   "outputs": [
    {
     "name": "stdout",
     "output_type": "stream",
     "text": [
      "                     Stage  Quantity  conv_sig_etapa  dif_etapa\n",
      "0         MainScreenAppear      7419           100.0        NaN\n",
      "1       OffersScreenAppear      4593            62.0      -38.0\n",
      "2         CartScreenAppear      3734            50.0      -12.0\n",
      "3  PaymentScreenSuccessful      3539            48.0       -2.0\n",
      "4                 Tutorial       840            11.0      -37.0\n",
      "\n",
      "Vemos que la etapa que perdió más usuarios fue de la primer etapa MainScreenAppear a  la segunda OffersScreenAppear con un porcentaje de -38%\n"
     ]
    }
   ],
   "source": [
    "# Utiliza el embudo de eventos para encontrar la proporción de usuarios que pasan de una etapa a la siguiente.\n",
    "# Por ejemplo, para la secuencia de eventos A → B → C, calcula la proporción de usuarios en la etapa B a la cantidad de usuarios en la etapa A y la proporción de usuarios en la etapa C a la cantidad en la etapa B.\n",
    "\n",
    "df['conv_sig_etapa'] = ((df['Quantity'] / df['Quantity'][0]).round(2))*100\n",
    "\n",
    "# Diferencia entre etapas en la columna conv_sig_etapa y muestra la diferencia a dos dec\n",
    "\n",
    "df['dif_etapa'] = df['conv_sig_etapa'].diff().round(2)\n",
    "print(df)\n",
    "print()\n",
    "# ¿En qué etapa pierdes más usuarios?\n",
    "print('Vemos que la etapa que perdió más usuarios fue de la primer etapa MainScreenAppear a  la segunda OffersScreenAppear con un porcentaje de -38%')"
   ]
  },
  {
   "cell_type": "markdown",
   "metadata": {},
   "source": [
    "¿Qué porcentaje de usuarios hace todo el viaje desde su primer evento hasta el pago?\n",
    "\n",
    "Vemos que el 11% es el porcentaje de usuarios que pasa por todas las etapas"
   ]
  },
  {
   "cell_type": "markdown",
   "metadata": {},
   "source": [
    "<div class=\"alert alert-block alert-success\">\n",
    "<b>Comentario de Revisor</b> <a class=\"tocSkip\"></a>\n",
    "\n",
    "Correcto!<br/>\n",
    "Buena manera de mostrar el resultado, se puede observar claramente la perdida de usuarios en cada una de las etapas\n",
    "\n",
    "</div>"
   ]
  },
  {
   "cell_type": "markdown",
   "metadata": {},
   "source": [
    "## Paso 5. Estudiar los resultados del experimento"
   ]
  },
  {
   "cell_type": "code",
   "execution_count": 22,
   "metadata": {},
   "outputs": [
    {
     "data": {
      "text/plain": [
       "exp_id  event_name             \n",
       "246     CartScreenAppear           14711\n",
       "        MainScreenAppear           37708\n",
       "        OffersScreenAppear         14773\n",
       "        PaymentScreenSuccessful    11910\n",
       "        Tutorial                     323\n",
       "247     CartScreenAppear           12456\n",
       "        MainScreenAppear           39123\n",
       "        OffersScreenAppear         15182\n",
       "        PaymentScreenSuccessful    10043\n",
       "        Tutorial                     343\n",
       "248     CartScreenAppear           15198\n",
       "        MainScreenAppear           40600\n",
       "        OffersScreenAppear         16395\n",
       "        PaymentScreenSuccessful    12160\n",
       "        Tutorial                     373\n",
       "Name: user_id, dtype: int64"
      ]
     },
     "execution_count": 22,
     "metadata": {},
     "output_type": "execute_result"
    }
   ],
   "source": [
    "# ¿Cuántos usuarios hay en cada grupo?\n",
    "\n",
    "df_logs.groupby(['exp_id', 'event_name'])['user_id'].count()"
   ]
  },
  {
   "cell_type": "markdown",
   "metadata": {},
   "source": [
    "<div class=\"alert alert-block alert-success\">\n",
    "<b>Comentario de Revisor</b> <a class=\"tocSkip\"></a><br/>\n",
    "\n",
    "Correcto!<br/>    \n",
    "Buena manera de ordenar los datos, se puede ver que los grupos son bastante similares en tamaño\n",
    "\n",
    "</div>"
   ]
  },
  {
   "cell_type": "code",
   "execution_count": 23,
   "metadata": {},
   "outputs": [
    {
     "name": "stdout",
     "output_type": "stream",
     "text": [
      "        fecha               event_name  user_id\n",
      "0  2019-08-01         CartScreenAppear      497\n",
      "1  2019-08-01         MainScreenAppear     1140\n",
      "2  2019-08-01       OffersScreenAppear      656\n",
      "3  2019-08-01  PaymentScreenSuccessful      452\n",
      "4  2019-08-01                 Tutorial       50\n",
      "5  2019-08-02         CartScreenAppear      513\n",
      "6  2019-08-02         MainScreenAppear     1144\n",
      "7  2019-08-02       OffersScreenAppear      687\n",
      "8  2019-08-02  PaymentScreenSuccessful      469\n",
      "9  2019-08-02                 Tutorial       57\n",
      "        fecha               event_name  user_id\n",
      "0  2019-08-01         CartScreenAppear      510\n",
      "1  2019-08-01         MainScreenAppear     1216\n",
      "2  2019-08-01       OffersScreenAppear      713\n",
      "3  2019-08-01  PaymentScreenSuccessful      451\n",
      "4  2019-08-01                 Tutorial       58\n",
      "5  2019-08-02         CartScreenAppear      495\n",
      "6  2019-08-02         MainScreenAppear     1167\n",
      "7  2019-08-02       OffersScreenAppear      668\n",
      "8  2019-08-02  PaymentScreenSuccessful      455\n",
      "9  2019-08-02                 Tutorial       43\n",
      "        fecha               event_name  user_id\n",
      "0  2019-08-01         CartScreenAppear      503\n",
      "1  2019-08-01         MainScreenAppear     1189\n",
      "2  2019-08-01       OffersScreenAppear      681\n",
      "3  2019-08-01  PaymentScreenSuccessful      469\n",
      "4  2019-08-01                 Tutorial       47\n",
      "5  2019-08-02         CartScreenAppear      517\n",
      "6  2019-08-02         MainScreenAppear     1174\n",
      "7  2019-08-02       OffersScreenAppear      715\n",
      "8  2019-08-02  PaymentScreenSuccessful      470\n",
      "9  2019-08-02                 Tutorial       45\n"
     ]
    }
   ],
   "source": [
    "# Crea un datasets llamadao exp_group_246 que contenga el número de user_id por día y por event_name\n",
    "\n",
    "exp_group_246 = df_logs[df_logs['exp_id'] == 246].groupby(['fecha', 'event_name'])['user_id'].nunique().reset_index()\n",
    "print(exp_group_246.head(10))\n",
    "exp_group_247 = df_logs[df_logs['exp_id'] == 247].groupby(['fecha', 'event_name'])['user_id'].nunique().reset_index()\n",
    "print(exp_group_247.head(10))\n",
    "exp_group_248 = df_logs[df_logs['exp_id'] == 248].groupby(['fecha', 'event_name'])['user_id'].nunique().reset_index()\n",
    "print(exp_group_248.head(10))"
   ]
  },
  {
   "cell_type": "code",
   "execution_count": 24,
   "metadata": {},
   "outputs": [
    {
     "name": "stdout",
     "output_type": "stream",
     "text": [
      "        fecha               event_name  user_id  exp_id\n",
      "0  2019-08-01         CartScreenAppear      497     246\n",
      "1  2019-08-01         MainScreenAppear     1140     246\n",
      "2  2019-08-01       OffersScreenAppear      656     246\n",
      "3  2019-08-01  PaymentScreenSuccessful      452     246\n",
      "4  2019-08-01                 Tutorial       50     246\n",
      "5  2019-08-02         CartScreenAppear      513     246\n",
      "6  2019-08-02         MainScreenAppear     1144     246\n",
      "7  2019-08-02       OffersScreenAppear      687     246\n",
      "8  2019-08-02  PaymentScreenSuccessful      469     246\n",
      "9  2019-08-02                 Tutorial       57     246\n"
     ]
    }
   ],
   "source": [
    "# Agrega una columna al data set exp_group_246 que indique 246.\n",
    "\n",
    "exp_group_246['exp_id'] = 246\n",
    "exp_group_247['exp_id'] = 247\n",
    "exp_group_248['exp_id'] = 248\n",
    "\n",
    "# Une los datasets exp_group_246, exp_group_246 y exp_group_246 en un solo data frame\n",
    "\n",
    "df_logs_exp = pd.concat([exp_group_246, exp_group_247, exp_group_248])\n",
    "print(df_logs_exp.head(10))"
   ]
  },
  {
   "cell_type": "code",
   "execution_count": 25,
   "metadata": {},
   "outputs": [
    {
     "name": "stdout",
     "output_type": "stream",
     "text": [
      "        fecha          event_name  users_qty  exp_id\n",
      "0  2019-08-01    CartScreenAppear        497     246\n",
      "1  2019-08-01    MainScreenAppear       1140     246\n",
      "2  2019-08-01  OffersScreenAppear        656     246\n"
     ]
    }
   ],
   "source": [
    "# Cambia el nombre de la columna user_id por users_qty\n",
    "\n",
    "df_logs_exp = df_logs_exp.rename(columns={'user_id': 'users_qty'})\n",
    "print(df_logs_exp.head(3))"
   ]
  },
  {
   "cell_type": "code",
   "execution_count": 26,
   "metadata": {},
   "outputs": [
    {
     "name": "stdout",
     "output_type": "stream",
     "text": [
      "valor p:  0.9820192822459893\n",
      "No rechazamos la hipótesis nula, no hay suficiente evidencia de una diferencia significativa entre las muestras 246 y 247\n",
      "0.9820192822459893\n"
     ]
    }
   ],
   "source": [
    "from scipy import stats as st\n",
    "import numpy as np\n",
    "\n",
    "# Observa si hay una diferencia estadísticamente significativa entre las muestras exp_246 y exp_247\n",
    "# Hipótesis nula: hay una diferencia estadísticamente significativa\n",
    "alpha = 0.05\n",
    "\n",
    "# scipy.stats.ttest_ind(exp_246, exp_247, equal_var)\n",
    "\n",
    "results = st.ttest_ind(exp_group_246['user_id'], exp_group_247['user_id'])\n",
    "\n",
    "print('valor p: ', results.pvalue) # extraer el valor p\n",
    "if results.pvalue < alpha:\n",
    "    print(\"Rechazamos la hipótesis nula, sí hay una diferencia significativa entre las muestras 246 y 247\")\n",
    "else:\n",
    "    print(\"No rechazamos la hipótesis nula, no hay suficiente evidencia de una diferencia significativa entre las muestras 246 y 247\")\n",
    "    print(results.pvalue)\n"
   ]
  },
  {
   "cell_type": "markdown",
   "metadata": {},
   "source": [
    "Selecciona el evento más popular. En cada uno de los grupos de control, encuentra la cantidad de usuarios que realizaron esta acción. Encuentra su proporción. Comprueba si la diferencia entre los grupos es estadísticamente significativa. Repite el procedimiento para todos los demás eventos (ahorrarás tiempo si creas una función especial para esta prueba)."
   ]
  },
  {
   "cell_type": "code",
   "execution_count": 27,
   "metadata": {},
   "outputs": [
    {
     "name": "stdout",
     "output_type": "stream",
     "text": [
      "cantidad de usuarios en evento MainScreenAppear del grupo 246= 8043\n",
      "cantidad de usuarios en evento MainScreenAppear del grupo 247= 8219\n",
      "proporción grupo 246 = 0.494588611486902\n",
      "proporción grupo 247 = 0.505411388513098\n",
      "p-value: 0.3935679120702118\n",
      "No rechazamos la hipótesis nula, no hay suficiente evidencia de una diferencia significativa entre las muestras 246 y 247\n",
      "0.3935679120702118\n"
     ]
    }
   ],
   "source": [
    "# Encuentra la cantidad de usuarios que realizaron el evento MainScreenAppear de los exp_id 246 y 247 del df_logs_exp\n",
    "\n",
    "users_246_qty = df_logs_exp[(df_logs_exp['event_name'] == 'MainScreenAppear') & (df_logs_exp['exp_id'] == 246)]['users_qty'].sum()\n",
    "print('cantidad de usuarios en evento MainScreenAppear del grupo 246=', users_246_qty)\n",
    "users_247_qty = df_logs_exp[(df_logs_exp['event_name'] == 'MainScreenAppear') & (df_logs_exp['exp_id'] == 247)]['users_qty'].sum()\n",
    "print('cantidad de usuarios en evento MainScreenAppear del grupo 247=', users_247_qty)\n",
    "\n",
    "# Encuentra la proporción de los dos 'exp_id' 246 y 248\n",
    "\n",
    "total_users = users_246_qty + users_247_qty\n",
    "proporcion_246 = users_246_qty / total_users\n",
    "print('proporción grupo 246 =', proporcion_246)\n",
    "proporcion_247 = users_247_qty / total_users\n",
    "print('proporción grupo 247 =', proporcion_247)\n",
    "\n",
    "# Encuentra si hay diferencia significativa entre 'exp_id' == 246 y 'exp_id' == 248 solo en el evento \"MainScreenAppear\" de la columna \"event_name\"\n",
    "\n",
    "results = st.ttest_ind(df_logs_exp[(df_logs_exp['event_name'] == 'MainScreenAppear') & (df_logs_exp['exp_id'] == 246)]['users_qty'], df_logs_exp[(df_logs_exp['event_name'] == 'MainScreenAppear') & (df_logs_exp['exp_id'] == 247)]['users_qty'])\n",
    "print('p-value:', results.pvalue)\n",
    "\n",
    "if results.pvalue < alpha:\n",
    "    print(\"Rechazamos la hipótesis nula, sí hay una diferencia significativa entre las muestras 246 y 247\")\n",
    "    print(results.pvalue)\n",
    "else:\n",
    "    print(\"No rechazamos la hipótesis nula, no hay suficiente evidencia de una diferencia significativa entre las muestras 246 y 247\")\n",
    "    print(results.pvalue)"
   ]
  },
  {
   "cell_type": "code",
   "execution_count": 28,
   "metadata": {},
   "outputs": [],
   "source": [
    "# Creamos una función para encuentrar en cada grupo la cantidad de usuarios que realizaron una acción, encontrar su proporción y comprobar si la diferencia entre los grupos es estadísticamente significativa.\n",
    "\n",
    "import pandas as pd\n",
    "from scipy import stats as st\n",
    "\n",
    "def analizar_evento_grupos(df_logs_exp, event_name, exp_ids, alpha=0.05):\n",
    "\n",
    "    try:\n",
    "        resultados = {}\n",
    "        total_usuarios = 0\n",
    "\n",
    "        for exp_id in exp_ids:\n",
    "            usuarios_evento = df_logs_exp[(df_logs_exp['event_name'] == event_name) & (df_logs_exp['exp_id'] == exp_id)]['users_qty']\n",
    "            cantidad_usuarios = usuarios_evento.sum()\n",
    "            resultados[exp_id] = {'cantidad_usuarios': cantidad_usuarios}\n",
    "            total_usuarios += cantidad_usuarios\n",
    "\n",
    "        if total_usuarios == 0:  # Validamos para evitar división por cero\n",
    "            print(\"No se encontraron usuarios para el evento especificado en los grupos proporcionados.\")\n",
    "            return None\n",
    "\n",
    "        for exp_id in exp_ids:\n",
    "            resultados[exp_id]['proporcion'] = resultados[exp_id]['cantidad_usuarios'] / total_usuarios\n",
    "            \n",
    "        # Realizar la prueba t-test solo si hay dos grupos para comparar.\n",
    "        if len(exp_ids) == 2:\n",
    "            grupo1 = df_logs_exp[(df_logs_exp['event_name'] == event_name) & (df_logs_exp['exp_id'] == exp_ids[0])]['users_qty']\n",
    "            grupo2 = df_logs_exp[(df_logs_exp['event_name'] == event_name) & (df_logs_exp['exp_id'] == exp_ids[1])]['users_qty']\n",
    "            \n",
    "            # Validar que al menos un grupo tenga datos antes de realizar la prueba t-test\n",
    "            if not grupo1.empty and not grupo2.empty:\n",
    "              results_ttest = st.ttest_ind(grupo1, grupo2)\n",
    "              resultados['ttest'] = {\n",
    "                  'pvalue': results_ttest.pvalue,\n",
    "                  'rechaza_hipotesis_nula': results_ttest.pvalue < alpha\n",
    "              }\n",
    "            else:\n",
    "              print(\"Uno o ambos grupos no tienen datos para el evento especificado. No se puede realizar la prueba t-test.\")\n",
    "              resultados['ttest'] = None\n",
    "        elif len(exp_ids) > 2:\n",
    "            print(\"Más de dos grupos proporcionados. La función solo realiza la prueba t-test para dos grupos.\")\n",
    "            resultados['ttest'] = None\n",
    "        else:\n",
    "            print(\"Se debe proporcionar al menos dos grupos para realizar la prueba t-test.\")\n",
    "            resultados['ttest'] = None\n",
    "\n",
    "        return resultados\n",
    "\n",
    "    except Exception as e:\n",
    "        print(f\"Error en la función: {e}\")\n",
    "        return None"
   ]
  },
  {
   "cell_type": "code",
   "execution_count": 29,
   "metadata": {},
   "outputs": [
    {
     "name": "stdout",
     "output_type": "stream",
     "text": [
      "Cantidad de usuarios del grupo 246 = 8043\n",
      "Proporción grupo 246 = 0.494588611486902\n",
      "Cantidad de usuarios del grupo 247 = 8219\n",
      "Proporción grupo 247 = 0.505411388513098\n",
      "p-value: 0.3935679120702118\n",
      "No rechazamos la hipótesis nula, no hay suficiente evidencia de una diferencia significativa\n"
     ]
    }
   ],
   "source": [
    "resultados = analizar_evento_grupos(df_logs_exp, 'MainScreenAppear', [246, 247])\n",
    "\n",
    "if resultados:\n",
    "    for exp_id in resultados:\n",
    "        if exp_id != 'ttest': # Imprimir resultados de cada grupo, excepto el t-test\n",
    "            print(f\"Cantidad de usuarios del grupo {exp_id} = {resultados[exp_id]['cantidad_usuarios']}\")\n",
    "            print(f\"Proporción grupo {exp_id} = {resultados[exp_id]['proporcion']}\")\n",
    "    if 'ttest' in resultados and resultados['ttest'] is not None: # Imprimir el resultado del t-test si existe\n",
    "        print('p-value:', resultados['ttest']['pvalue'])\n",
    "        if resultados['ttest']['rechaza_hipotesis_nula']:\n",
    "            print(\"Rechazamos la hipótesis nula, sí hay una diferencia significativa entre las muestras\")\n",
    "        else:\n",
    "            print(\"No rechazamos la hipótesis nula, no hay suficiente evidencia de una diferencia significativa\")\n",
    "else:\n",
    "    print(\"No se pudieron realizar los análisis.\")"
   ]
  },
  {
   "cell_type": "code",
   "execution_count": 30,
   "metadata": {},
   "outputs": [
    {
     "name": "stdout",
     "output_type": "stream",
     "text": [
      "Cantidad de usuarios del grupo 246 = 3538\n",
      "Proporción grupo 246 = 0.5029140014214641\n",
      "Cantidad de usuarios del grupo 247 = 3497\n",
      "Proporción grupo 247 = 0.4970859985785359\n",
      "p-value: 0.45738561642044917\n",
      "No rechazamos la hipótesis nula, no hay suficiente evidencia de una diferencia significativa\n"
     ]
    }
   ],
   "source": [
    "# Usamos la función analizar_eventos_exp para 'CartScreenAppear\"\n",
    "\n",
    "resultados = analizar_evento_grupos(df_logs_exp, 'CartScreenAppear', [246, 247])\n",
    "\n",
    "if resultados:\n",
    "    for exp_id in resultados:\n",
    "        if exp_id != 'ttest': # Imprimir resultados de cada grupo, excepto el t-test\n",
    "            print(f\"Cantidad de usuarios del grupo {exp_id} = {resultados[exp_id]['cantidad_usuarios']}\")\n",
    "            print(f\"Proporción grupo {exp_id} = {resultados[exp_id]['proporcion']}\")\n",
    "    if 'ttest' in resultados and resultados['ttest'] is not None: # Imprimir el resultado del t-test si existe\n",
    "        print('p-value:', resultados['ttest']['pvalue'])\n",
    "        if resultados['ttest']['rechaza_hipotesis_nula']:\n",
    "            print(\"Rechazamos la hipótesis nula, sí hay una diferencia significativa entre las muestras\")\n",
    "        else:\n",
    "            print(\"No rechazamos la hipótesis nula, no hay suficiente evidencia de una diferencia significativa\")\n",
    "else:\n",
    "    print(\"No se pudieron realizar los análisis.\")"
   ]
  },
  {
   "cell_type": "code",
   "execution_count": 31,
   "metadata": {},
   "outputs": [
    {
     "name": "stdout",
     "output_type": "stream",
     "text": [
      "No se encontraron usuarios para el evento especificado en los grupos proporcionados.\n",
      "No se pudieron realizar los análisis.\n"
     ]
    }
   ],
   "source": [
    "# Usamos la función analizar_eventos_exp para 'OfferScreenAppear\"\n",
    "\n",
    "resultados = analizar_evento_grupos(df_logs_exp, 'OfferScreenAppear', [246, 247])\n",
    "\n",
    "if resultados:\n",
    "    for exp_id in resultados:\n",
    "        if exp_id != 'ttest': # Imprimir resultados de cada grupo, excepto el t-test\n",
    "            print(f\"Cantidad de usuarios del grupo {exp_id} = {resultados[exp_id]['cantidad_usuarios']}\")\n",
    "            print(f\"Proporción grupo {exp_id} = {resultados[exp_id]['proporcion']}\")\n",
    "    if 'ttest' in resultados and resultados['ttest'] is not None: # Imprimir el resultado del t-test si existe\n",
    "        print('p-value:', resultados['ttest']['pvalue'])\n",
    "        if resultados['ttest']['rechaza_hipotesis_nula']:\n",
    "            print(\"Rechazamos la hipótesis nula, sí hay una diferencia significativa entre las muestras\")\n",
    "        else:\n",
    "            print(\"No rechazamos la hipótesis nula, no hay suficiente evidencia de una diferencia significativa\")\n",
    "else:\n",
    "    print(\"No se pudieron realizar los análisis.\")"
   ]
  },
  {
   "cell_type": "code",
   "execution_count": 32,
   "metadata": {},
   "outputs": [
    {
     "name": "stdout",
     "output_type": "stream",
     "text": [
      "Cantidad de usuarios del grupo 246 = 3311\n",
      "Proporción grupo 246 = 0.5048795364440378\n",
      "Cantidad de usuarios del grupo 247 = 3247\n",
      "Proporción grupo 247 = 0.4951204635559622\n",
      "p-value: 0.24056150540306379\n",
      "No rechazamos la hipótesis nula, no hay suficiente evidencia de una diferencia significativa\n"
     ]
    }
   ],
   "source": [
    "# Usamos la función analizar_eventos_exp para 'PaymentScreenSuccessful\"\n",
    "\n",
    "resultados = analizar_evento_grupos(df_logs_exp, 'PaymentScreenSuccessful', [246, 247])\n",
    "\n",
    "if resultados:\n",
    "    for exp_id in resultados:\n",
    "        if exp_id != 'ttest': # Imprimir resultados de cada grupo, excepto el t-test\n",
    "            print(f\"Cantidad de usuarios del grupo {exp_id} = {resultados[exp_id]['cantidad_usuarios']}\")\n",
    "            print(f\"Proporción grupo {exp_id} = {resultados[exp_id]['proporcion']}\")\n",
    "    if 'ttest' in resultados and resultados['ttest'] is not None: # Imprimir el resultado del t-test si existe\n",
    "        print('p-value:', resultados['ttest']['pvalue'])\n",
    "        if resultados['ttest']['rechaza_hipotesis_nula']:\n",
    "            print(\"Rechazamos la hipótesis nula, sí hay una diferencia significativa entre las muestras\")\n",
    "        else:\n",
    "            print(\"No rechazamos la hipótesis nula, no hay suficiente evidencia de una diferencia significativa\")\n",
    "else:\n",
    "    print(\"No se pudieron realizar los análisis.\")"
   ]
  },
  {
   "cell_type": "code",
   "execution_count": 33,
   "metadata": {},
   "outputs": [
    {
     "name": "stdout",
     "output_type": "stream",
     "text": [
      "Cantidad de usuarios del grupo 246 = 282\n",
      "Proporción grupo 246 = 0.4912891986062718\n",
      "Cantidad de usuarios del grupo 247 = 292\n",
      "Proporción grupo 247 = 0.5087108013937283\n",
      "p-value: 0.8379775548633102\n",
      "No rechazamos la hipótesis nula, no hay suficiente evidencia de una diferencia significativa\n"
     ]
    }
   ],
   "source": [
    "# Usamos la función analizar_eventos_exp para 'Tutorial\"\n",
    "\n",
    "resultados = analizar_evento_grupos(df_logs_exp, 'Tutorial', [246, 247])\n",
    "\n",
    "if resultados:\n",
    "    for exp_id in resultados:\n",
    "        if exp_id != 'ttest': # Imprimir resultados de cada grupo, excepto el t-test\n",
    "            print(f\"Cantidad de usuarios del grupo {exp_id} = {resultados[exp_id]['cantidad_usuarios']}\")\n",
    "            print(f\"Proporción grupo {exp_id} = {resultados[exp_id]['proporcion']}\")\n",
    "    if 'ttest' in resultados and resultados['ttest'] is not None: # Imprimir el resultado del t-test si existe\n",
    "        print('p-value:', resultados['ttest']['pvalue'])\n",
    "        if resultados['ttest']['rechaza_hipotesis_nula']:\n",
    "            print(\"Rechazamos la hipótesis nula, sí hay una diferencia significativa entre las muestras\")\n",
    "        else:\n",
    "            print(\"No rechazamos la hipótesis nula, no hay suficiente evidencia de una diferencia significativa\")\n",
    "else:\n",
    "    print(\"No se pudieron realizar los análisis.\")"
   ]
  },
  {
   "cell_type": "markdown",
   "metadata": {},
   "source": [
    "¿Puedes confirmar que los grupos se dividieron correctamente?\n",
    "\n",
    "Vemos que los datos se dividieron de forma correcta, ya que de acuerdo a los resultados no se encontró evidencia de una diferencia significativa."
   ]
  },
  {
   "cell_type": "markdown",
   "metadata": {},
   "source": [
    "Haz lo mismo para el grupo con fuentes alteradas. Compara los resultados con los de cada uno de los grupos de control para cada evento de forma aislada. Compara los resultados con los resultados combinados de los grupos de control."
   ]
  },
  {
   "cell_type": "code",
   "execution_count": 34,
   "metadata": {},
   "outputs": [
    {
     "name": "stdout",
     "output_type": "stream",
     "text": [
      "Cantidad de usuarios del grupo 246 = 8043\n",
      "Proporción grupo 246 = 0.49277049381203286\n",
      "Cantidad de usuarios del grupo 248 = 8279\n",
      "Proporción grupo 248 = 0.5072295061879671\n",
      "p-value: 0.2527868023318047\n",
      "No rechazamos la hipótesis nula, no hay suficiente evidencia de una diferencia significativa\n"
     ]
    }
   ],
   "source": [
    "resultados = analizar_evento_grupos(df_logs_exp, 'MainScreenAppear', [246, 248])\n",
    "\n",
    "if resultados:\n",
    "    for exp_id in resultados:\n",
    "        if exp_id != 'ttest': # Imprimir resultados de cada grupo, excepto el t-test\n",
    "            print(f\"Cantidad de usuarios del grupo {exp_id} = {resultados[exp_id]['cantidad_usuarios']}\")\n",
    "            print(f\"Proporción grupo {exp_id} = {resultados[exp_id]['proporcion']}\")\n",
    "    if 'ttest' in resultados and resultados['ttest'] is not None: # Imprimir el resultado del t-test si existe\n",
    "        print('p-value:', resultados['ttest']['pvalue'])\n",
    "        if resultados['ttest']['rechaza_hipotesis_nula']:\n",
    "            print(\"Rechazamos la hipótesis nula, sí hay una diferencia significativa entre las muestras\")\n",
    "        else:\n",
    "            print(\"No rechazamos la hipótesis nula, no hay suficiente evidencia de una diferencia significativa\")\n",
    "else:\n",
    "    print(\"No se pudieron realizar los análisis.\")"
   ]
  },
  {
   "cell_type": "code",
   "execution_count": 35,
   "metadata": {},
   "outputs": [
    {
     "name": "stdout",
     "output_type": "stream",
     "text": [
      "Cantidad de usuarios del grupo 246 = 3538\n",
      "Proporción grupo 246 = 0.5004951195360022\n",
      "Cantidad de usuarios del grupo 248 = 3531\n",
      "Proporción grupo 248 = 0.4995048804639977\n",
      "p-value: 0.8981940143595246\n",
      "No rechazamos la hipótesis nula, no hay suficiente evidencia de una diferencia significativa\n"
     ]
    }
   ],
   "source": [
    "resultados = analizar_evento_grupos(df_logs_exp, 'CartScreenAppear', [246, 248])\n",
    "\n",
    "if resultados:\n",
    "    for exp_id in resultados:\n",
    "        if exp_id != 'ttest': # Imprimir resultados de cada grupo, excepto el t-test\n",
    "            print(f\"Cantidad de usuarios del grupo {exp_id} = {resultados[exp_id]['cantidad_usuarios']}\")\n",
    "            print(f\"Proporción grupo {exp_id} = {resultados[exp_id]['proporcion']}\")\n",
    "    if 'ttest' in resultados and resultados['ttest'] is not None: # Imprimir el resultado del t-test si existe\n",
    "        print('p-value:', resultados['ttest']['pvalue'])\n",
    "        if resultados['ttest']['rechaza_hipotesis_nula']:\n",
    "            print(\"Rechazamos la hipótesis nula, sí hay una diferencia significativa entre las muestras\")\n",
    "        else:\n",
    "            print(\"No rechazamos la hipótesis nula, no hay suficiente evidencia de una diferencia significativa\")\n",
    "else:\n",
    "    print(\"No se pudieron realizar los análisis.\")"
   ]
  },
  {
   "cell_type": "code",
   "execution_count": 36,
   "metadata": {},
   "outputs": [
    {
     "name": "stdout",
     "output_type": "stream",
     "text": [
      "Cantidad de usuarios del grupo 246 = 4891\n",
      "Proporción grupo 246 = 0.5002557021581262\n",
      "Cantidad de usuarios del grupo 248 = 4886\n",
      "Proporción grupo 248 = 0.4997442978418738\n",
      "p-value: 0.9521413199050492\n",
      "No rechazamos la hipótesis nula, no hay suficiente evidencia de una diferencia significativa\n"
     ]
    }
   ],
   "source": [
    "resultados = analizar_evento_grupos(df_logs_exp, 'OffersScreenAppear', [246, 248])\n",
    "\n",
    "if resultados:\n",
    "    for exp_id in resultados:\n",
    "        if exp_id != 'ttest': # Imprimir resultados de cada grupo, excepto el t-test\n",
    "            print(f\"Cantidad de usuarios del grupo {exp_id} = {resultados[exp_id]['cantidad_usuarios']}\")\n",
    "            print(f\"Proporción grupo {exp_id} = {resultados[exp_id]['proporcion']}\")\n",
    "    if 'ttest' in resultados and resultados['ttest'] is not None: # Imprimir el resultado del t-test si existe\n",
    "        print('p-value:', resultados['ttest']['pvalue'])\n",
    "        if resultados['ttest']['rechaza_hipotesis_nula']:\n",
    "            print(\"Rechazamos la hipótesis nula, sí hay una diferencia significativa entre las muestras\")\n",
    "        else:\n",
    "            print(\"No rechazamos la hipótesis nula, no hay suficiente evidencia de una diferencia significativa\")\n",
    "else:\n",
    "    print(\"No se pudieron realizar los análisis.\")"
   ]
  },
  {
   "cell_type": "code",
   "execution_count": 37,
   "metadata": {},
   "outputs": [
    {
     "name": "stdout",
     "output_type": "stream",
     "text": [
      "Cantidad de usuarios del grupo 246 = 3311\n",
      "Proporción grupo 246 = 0.5003022061045633\n",
      "Cantidad de usuarios del grupo 248 = 3307\n",
      "Proporción grupo 248 = 0.49969779389543667\n",
      "p-value: 0.9466881693402707\n",
      "No rechazamos la hipótesis nula, no hay suficiente evidencia de una diferencia significativa\n"
     ]
    }
   ],
   "source": [
    "resultados = analizar_evento_grupos(df_logs_exp, 'PaymentScreenSuccessful', [246, 248])\n",
    "\n",
    "if resultados:\n",
    "    for exp_id in resultados:\n",
    "        if exp_id != 'ttest': # Imprimir resultados de cada grupo, excepto el t-test\n",
    "            print(f\"Cantidad de usuarios del grupo {exp_id} = {resultados[exp_id]['cantidad_usuarios']}\")\n",
    "            print(f\"Proporción grupo {exp_id} = {resultados[exp_id]['proporcion']}\")\n",
    "    if 'ttest' in resultados and resultados['ttest'] is not None: # Imprimir el resultado del t-test si existe\n",
    "        print('p-value:', resultados['ttest']['pvalue'])\n",
    "        if resultados['ttest']['rechaza_hipotesis_nula']:\n",
    "            print(\"Rechazamos la hipótesis nula, sí hay una diferencia significativa entre las muestras\")\n",
    "        else:\n",
    "            print(\"No rechazamos la hipótesis nula, no hay suficiente evidencia de una diferencia significativa\")\n",
    "else:\n",
    "    print(\"No se pudieron realizar los análisis.\")"
   ]
  },
  {
   "cell_type": "code",
   "execution_count": 38,
   "metadata": {},
   "outputs": [
    {
     "name": "stdout",
     "output_type": "stream",
     "text": [
      "Cantidad de usuarios del grupo 246 = 282\n",
      "Proporción grupo 246 = 0.4973544973544973\n",
      "Cantidad de usuarios del grupo 248 = 285\n",
      "Proporción grupo 248 = 0.5026455026455027\n",
      "p-value: 0.9467225973458759\n",
      "No rechazamos la hipótesis nula, no hay suficiente evidencia de una diferencia significativa\n"
     ]
    }
   ],
   "source": [
    "resultados = analizar_evento_grupos(df_logs_exp, 'Tutorial', [246, 248])\n",
    "\n",
    "if resultados:\n",
    "    for exp_id in resultados:\n",
    "        if exp_id != 'ttest': # Imprimir resultados de cada grupo, excepto el t-test\n",
    "            print(f\"Cantidad de usuarios del grupo {exp_id} = {resultados[exp_id]['cantidad_usuarios']}\")\n",
    "            print(f\"Proporción grupo {exp_id} = {resultados[exp_id]['proporcion']}\")\n",
    "    if 'ttest' in resultados and resultados['ttest'] is not None: # Imprimir el resultado del t-test si existe\n",
    "        print('p-value:', resultados['ttest']['pvalue'])\n",
    "        if resultados['ttest']['rechaza_hipotesis_nula']:\n",
    "            print(\"Rechazamos la hipótesis nula, sí hay una diferencia significativa entre las muestras\")\n",
    "        else:\n",
    "            print(\"No rechazamos la hipótesis nula, no hay suficiente evidencia de una diferencia significativa\")\n",
    "else:\n",
    "    print(\"No se pudieron realizar los análisis.\")"
   ]
  },
  {
   "cell_type": "code",
   "execution_count": 39,
   "metadata": {},
   "outputs": [
    {
     "name": "stdout",
     "output_type": "stream",
     "text": [
      "Cantidad de usuarios del grupo 247 = 8219\n",
      "Proporción grupo 247 = 0.4981815977694266\n",
      "Cantidad de usuarios del grupo 248 = 8279\n",
      "Proporción grupo 248 = 0.5018184022305734\n",
      "p-value: 0.7816239522799555\n",
      "No rechazamos la hipótesis nula, no hay suficiente evidencia de una diferencia significativa\n"
     ]
    }
   ],
   "source": [
    "resultados = analizar_evento_grupos(df_logs_exp, 'MainScreenAppear', [247, 248])\n",
    "\n",
    "if resultados:\n",
    "    for exp_id in resultados:\n",
    "        if exp_id != 'ttest': # Imprimir resultados de cada grupo, excepto el t-test\n",
    "            print(f\"Cantidad de usuarios del grupo {exp_id} = {resultados[exp_id]['cantidad_usuarios']}\")\n",
    "            print(f\"Proporción grupo {exp_id} = {resultados[exp_id]['proporcion']}\")\n",
    "    if 'ttest' in resultados and resultados['ttest'] is not None: # Imprimir el resultado del t-test si existe\n",
    "        print('p-value:', resultados['ttest']['pvalue'])\n",
    "        if resultados['ttest']['rechaza_hipotesis_nula']:\n",
    "            print(\"Rechazamos la hipótesis nula, sí hay una diferencia significativa entre las muestras\")\n",
    "        else:\n",
    "            print(\"No rechazamos la hipótesis nula, no hay suficiente evidencia de una diferencia significativa\")\n",
    "else:\n",
    "    print(\"No se pudieron realizar los análisis.\")"
   ]
  },
  {
   "cell_type": "code",
   "execution_count": 40,
   "metadata": {},
   "outputs": [
    {
     "name": "stdout",
     "output_type": "stream",
     "text": [
      "Cantidad de usuarios del grupo 247 = 3497\n",
      "Proporción grupo 247 = 0.49758110415480933\n",
      "Cantidad de usuarios del grupo 248 = 3531\n",
      "Proporción grupo 248 = 0.5024188958451906\n",
      "p-value: 0.5864714314554476\n",
      "No rechazamos la hipótesis nula, no hay suficiente evidencia de una diferencia significativa\n"
     ]
    }
   ],
   "source": [
    "resultados = analizar_evento_grupos(df_logs_exp, 'CartScreenAppear', [247, 248])\n",
    "\n",
    "if resultados:\n",
    "    for exp_id in resultados:\n",
    "        if exp_id != 'ttest': # Imprimir resultados de cada grupo, excepto el t-test\n",
    "            print(f\"Cantidad de usuarios del grupo {exp_id} = {resultados[exp_id]['cantidad_usuarios']}\")\n",
    "            print(f\"Proporción grupo {exp_id} = {resultados[exp_id]['proporcion']}\")\n",
    "    if 'ttest' in resultados and resultados['ttest'] is not None: # Imprimir el resultado del t-test si existe\n",
    "        print('p-value:', resultados['ttest']['pvalue'])\n",
    "        if resultados['ttest']['rechaza_hipotesis_nula']:\n",
    "            print(\"Rechazamos la hipótesis nula, sí hay una diferencia significativa entre las muestras\")\n",
    "        else:\n",
    "            print(\"No rechazamos la hipótesis nula, no hay suficiente evidencia de una diferencia significativa\")\n",
    "else:\n",
    "    print(\"No se pudieron realizar los análisis.\")"
   ]
  },
  {
   "cell_type": "code",
   "execution_count": 41,
   "metadata": {},
   "outputs": [
    {
     "name": "stdout",
     "output_type": "stream",
     "text": [
      "Cantidad de usuarios del grupo 247 = 4880\n",
      "Proporción grupo 247 = 0.49969281179602704\n",
      "Cantidad de usuarios del grupo 248 = 4886\n",
      "Proporción grupo 248 = 0.500307188203973\n",
      "p-value: 0.9373705306000786\n",
      "No rechazamos la hipótesis nula, no hay suficiente evidencia de una diferencia significativa\n"
     ]
    }
   ],
   "source": [
    "resultados = analizar_evento_grupos(df_logs_exp, 'OffersScreenAppear', [247, 248])\n",
    "\n",
    "if resultados:\n",
    "    for exp_id in resultados:\n",
    "        if exp_id != 'ttest': # Imprimir resultados de cada grupo, excepto el t-test\n",
    "            print(f\"Cantidad de usuarios del grupo {exp_id} = {resultados[exp_id]['cantidad_usuarios']}\")\n",
    "            print(f\"Proporción grupo {exp_id} = {resultados[exp_id]['proporcion']}\")\n",
    "    if 'ttest' in resultados and resultados['ttest'] is not None: # Imprimir el resultado del t-test si existe\n",
    "        print('p-value:', resultados['ttest']['pvalue'])\n",
    "        if resultados['ttest']['rechaza_hipotesis_nula']:\n",
    "            print(\"Rechazamos la hipótesis nula, sí hay una diferencia significativa entre las muestras\")\n",
    "        else:\n",
    "            print(\"No rechazamos la hipótesis nula, no hay suficiente evidencia de una diferencia significativa\")\n",
    "else:\n",
    "    print(\"No se pudieron realizar los análisis.\")"
   ]
  },
  {
   "cell_type": "code",
   "execution_count": 42,
   "metadata": {},
   "outputs": [
    {
     "name": "stdout",
     "output_type": "stream",
     "text": [
      "Cantidad de usuarios del grupo 247 = 3247\n",
      "Proporción grupo 247 = 0.4954226426609704\n",
      "Cantidad de usuarios del grupo 248 = 3307\n",
      "Proporción grupo 248 = 0.5045773573390296\n",
      "p-value: 0.31553951715645945\n",
      "No rechazamos la hipótesis nula, no hay suficiente evidencia de una diferencia significativa\n"
     ]
    }
   ],
   "source": [
    "resultados = analizar_evento_grupos(df_logs_exp, 'PaymentScreenSuccessful', [247, 248])\n",
    "\n",
    "if resultados:\n",
    "    for exp_id in resultados:\n",
    "        if exp_id != 'ttest': # Imprimir resultados de cada grupo, excepto el t-test\n",
    "            print(f\"Cantidad de usuarios del grupo {exp_id} = {resultados[exp_id]['cantidad_usuarios']}\")\n",
    "            print(f\"Proporción grupo {exp_id} = {resultados[exp_id]['proporcion']}\")\n",
    "    if 'ttest' in resultados and resultados['ttest'] is not None: # Imprimir el resultado del t-test si existe\n",
    "        print('p-value:', resultados['ttest']['pvalue'])\n",
    "        if resultados['ttest']['rechaza_hipotesis_nula']:\n",
    "            print(\"Rechazamos la hipótesis nula, sí hay una diferencia significativa entre las muestras\")\n",
    "        else:\n",
    "            print(\"No rechazamos la hipótesis nula, no hay suficiente evidencia de una diferencia significativa\")\n",
    "else:\n",
    "    print(\"No se pudieron realizar los análisis.\")"
   ]
  },
  {
   "cell_type": "code",
   "execution_count": 43,
   "metadata": {},
   "outputs": [
    {
     "name": "stdout",
     "output_type": "stream",
     "text": [
      "Cantidad de usuarios del grupo 247 = 292\n",
      "Proporción grupo 247 = 0.5060658578856152\n",
      "Cantidad de usuarios del grupo 248 = 285\n",
      "Proporción grupo 248 = 0.49393414211438474\n",
      "p-value: 0.8812905610660384\n",
      "No rechazamos la hipótesis nula, no hay suficiente evidencia de una diferencia significativa\n"
     ]
    }
   ],
   "source": [
    "resultados = analizar_evento_grupos(df_logs_exp, 'Tutorial', [247, 248])\n",
    "\n",
    "if resultados:\n",
    "    for exp_id in resultados:\n",
    "        if exp_id != 'ttest': # Imprimir resultados de cada grupo, excepto el t-test\n",
    "            print(f\"Cantidad de usuarios del grupo {exp_id} = {resultados[exp_id]['cantidad_usuarios']}\")\n",
    "            print(f\"Proporción grupo {exp_id} = {resultados[exp_id]['proporcion']}\")\n",
    "    if 'ttest' in resultados and resultados['ttest'] is not None: # Imprimir el resultado del t-test si existe\n",
    "        print('p-value:', resultados['ttest']['pvalue'])\n",
    "        if resultados['ttest']['rechaza_hipotesis_nula']:\n",
    "            print(\"Rechazamos la hipótesis nula, sí hay una diferencia significativa entre las muestras\")\n",
    "        else:\n",
    "            print(\"No rechazamos la hipótesis nula, no hay suficiente evidencia de una diferencia significativa\")\n",
    "else:\n",
    "    print(\"No se pudieron realizar los análisis.\")"
   ]
  },
  {
   "cell_type": "markdown",
   "metadata": {},
   "source": [
    "<div class=\"alert alert-block alert-success\">\n",
    "<b>Comentario de Revisor</b> <a class=\"tocSkip\"></a>\n",
    "\n",
    "Correcto, muy buena manera de probar la hipotesis, comprobando (en este caso) que los grupos son similares\n",
    " \n",
    "</div>"
   ]
  },
  {
   "cell_type": "markdown",
   "metadata": {},
   "source": [
    "<div class=\"alert alert-block alert-warning\">\n",
    "<b>Comentario de Revisor</b> <a class=\"tocSkip\"></a>\n",
    "\n",
    "El siguiente código ha sido repetido \n",
    "```\n",
    "if resultados:\n",
    "    for exp_id in resultados:\n",
    "        if exp_id != 'ttest': # Imprimir resultados de cada grupo, excepto el t-test\n",
    "            print(f\"Cantidad de usuarios del grupo {exp_id} = {resultados[exp_id]['cantidad_usuarios']}\")\n",
    "            print(f\"Proporción grupo {exp_id} = {resultados[exp_id]['proporcion']}\")\n",
    "    if 'ttest' in resultados and resultados['ttest'] is not None: # Imprimir el resultado del t-test si existe\n",
    "        print('p-value:', resultados['ttest']['pvalue'])\n",
    "        if resultados['ttest']['rechaza_hipotesis_nula']:\n",
    "            print(\"Rechazamos la hipótesis nula, sí hay una diferencia significativa entre las muestras\")\n",
    "        else:\n",
    "            print(\"No rechazamos la hipótesis nula, no hay suficiente evidencia de una diferencia significativa\")\n",
    "else:\n",
    "    print(\"No se pudieron realizar los análisis.\")\n",
    "```\n",
    "\n",
    "Se puede hacer una función que reemplace todas las celdas anteriores, que reciba `resultados` como argumento y simplificar el código, te dejo el ejemplo en la celda de abajo\n",
    " \n",
    "</div>"
   ]
  },
  {
   "cell_type": "code",
   "execution_count": 46,
   "metadata": {},
   "outputs": [
    {
     "name": "stdout",
     "output_type": "stream",
     "text": [
      "Cantidad de usuarios del grupo 246 = 8043\n",
      "Proporción grupo 246 = 0.494588611486902\n",
      "Cantidad de usuarios del grupo 247 = 8219\n",
      "Proporción grupo 247 = 0.505411388513098\n",
      "p-value: 0.3935679120702118\n",
      "No rechazamos la hipótesis nula, no hay suficiente evidencia de una diferencia significativa\n",
      "-_-_-_-_-_-_-_-_-_-_-_-_-_-_-_-_-_-_-_-_-_-_-_-_-_-_-_-_-_-_-_-_-_-_-_-_-_-_-_-_-_-_-_-_-_-_-_-_-_-_-_-_-\n",
      "Cantidad de usuarios del grupo 246 = 3538\n",
      "Proporción grupo 246 = 0.5029140014214641\n",
      "Cantidad de usuarios del grupo 247 = 3497\n",
      "Proporción grupo 247 = 0.4970859985785359\n",
      "p-value: 0.45738561642044917\n",
      "No rechazamos la hipótesis nula, no hay suficiente evidencia de una diferencia significativa\n",
      "-_-_-_-_-_-_-_-_-_-_-_-_-_-_-_-_-_-_-_-_-_-_-_-_-_-_-_-_-_-_-_-_-_-_-_-_-_-_-_-_-_-_-_-_-_-_-_-_-_-_-_-_-\n",
      "Cantidad de usuarios del grupo 247 = 3247\n",
      "Proporción grupo 247 = 0.4954226426609704\n",
      "Cantidad de usuarios del grupo 248 = 3307\n",
      "Proporción grupo 248 = 0.5045773573390296\n",
      "p-value: 0.31553951715645945\n",
      "No rechazamos la hipótesis nula, no hay suficiente evidencia de una diferencia significativa\n"
     ]
    }
   ],
   "source": [
    "def mostrar_resultado(var_resultado):\n",
    "    if var_resultado:\n",
    "        for exp_id in var_resultado:\n",
    "            if exp_id != 'ttest': # Imprimir resultados de cada grupo, excepto el t-test\n",
    "                print(f\"Cantidad de usuarios del grupo {exp_id} = {var_resultado[exp_id]['cantidad_usuarios']}\")\n",
    "                print(f\"Proporción grupo {exp_id} = {resultados[exp_id]['proporcion']}\")\n",
    "        if 'ttest' in var_resultado and var_resultado['ttest'] is not None: # Imprimir el resultado del t-test si existe\n",
    "            print('p-value:', resultados['ttest']['pvalue'])\n",
    "            if resultados['ttest']['rechaza_hipotesis_nula']:\n",
    "                print(\"Rechazamos la hipótesis nula, sí hay una diferencia significativa entre las muestras\")\n",
    "            else:\n",
    "                print(\"No rechazamos la hipótesis nula, no hay suficiente evidencia de una diferencia significativa\")\n",
    "    else:\n",
    "        print(\"No se pudieron realizar los análisis.\")\n",
    "        \n",
    "        \n",
    "resultados = analizar_evento_grupos(df_logs_exp, 'MainScreenAppear', [246, 247])\n",
    "mostrar_resultado(resultados)\n",
    "print('-_-_-_-_-_-_-_-_-_-_-_-_-_-_-_-_-_-_-_-_-_-_-_-_-_-_-_-_-_-_-_-_-_-_-_-_-_-_-_-_-_-_-_-_-_-_-_-_-_-_-_-_-')\n",
    "resultados = analizar_evento_grupos(df_logs_exp, 'CartScreenAppear', [246, 247])\n",
    "mostrar_resultado(resultados)\n",
    "print('-_-_-_-_-_-_-_-_-_-_-_-_-_-_-_-_-_-_-_-_-_-_-_-_-_-_-_-_-_-_-_-_-_-_-_-_-_-_-_-_-_-_-_-_-_-_-_-_-_-_-_-_-')\n",
    "resultados = analizar_evento_grupos(df_logs_exp, 'PaymentScreenSuccessful', [247, 248])\n",
    "mostrar_resultado(resultados)"
   ]
  },
  {
   "cell_type": "markdown",
   "metadata": {},
   "source": [
    "¿Qué conclusiones puedes sacar del experimento? Vemos que tampoco para este grupo hay una diferencia estadísticamente significativa en la conversión entre los grupos."
   ]
  },
  {
   "cell_type": "markdown",
   "metadata": {},
   "source": [
    "¿Qué nivel de significancia has establecido para probar las hipótesis estadísticas mencionadas anteriormente? Calcula cuántas pruebas de hipótesis estadísticas has realizado. Con un nivel de significancia estadística de 0.1, uno de cada 10 resultados podría ser falso. ¿Cuál debería ser el nivel de significancia? Si deseas cambiarlo, vuelve a ejecutar los pasos anteriores y comprueba tus conclusiones. Hemos establecido un nivel de significacia del .05. Hicimos un total de 15 pruebas en la que pudimos demostrar que no había un diferencia estadisticamente significativa entre los grupos."
   ]
  },
  {
   "cell_type": "markdown",
   "metadata": {},
   "source": [
    "# Comentario general del revisor\n",
    "<div class=\"alert alert-block alert-success\">\n",
    "<b>Comentario del revisor</b> <a class=\"tocSkip\"></a><br />\n",
    "Has realizado un buen trabajo, me doy cuenta de que has aplicado los conocimientos que has adquirido durante el curso, los procedimientos realizados son correctos.<br/>\n",
    " \n",
    "Las decisiones que tomas a lo largo del proyecto me parecen acertadas y te hacen ir por un buen camino, lo que termina en un analisis bastante acertado.    \n",
    "<br/>\n",
    "Las conclusiones finales a las que llegas estan respaldadas con los procedimientos que has realizado a lo largo del proyecto, me parecen bastante acertadas y el lenguaje que usas es adecuado para que cualquier persona las pueda entender.\n",
    "<br/> <br/> \n",
    "\n",
    "    \n",
    "    \n",
    "Este tipo de analisis ayudará al negocio a enfocarse en partes especificas de los distintos eventos que los usuarios toman para llegar a realizar una compra, en este caso se pueden enfocar en la parte donde se pierden la mayoría de usuarios que es el pasar de la pantalla principal a la pantalla de ofertas. Se pueden crear distintas maneras de generar mas enganche para que cada vez más personas pasen de una etapa a la siguiente.<br/>\n",
    "</div>\n"
   ]
  }
 ],
 "metadata": {
  "ExecuteTimeLog": [
   {
    "duration": 1074,
    "start_time": "2025-02-09T22:53:51.474Z"
   },
   {
    "duration": 760,
    "start_time": "2025-02-09T22:54:13.676Z"
   },
   {
    "duration": 7,
    "start_time": "2025-02-09T22:56:58.970Z"
   },
   {
    "duration": 15,
    "start_time": "2025-02-09T22:57:11.781Z"
   },
   {
    "duration": 151,
    "start_time": "2025-02-09T22:57:21.870Z"
   },
   {
    "duration": 24,
    "start_time": "2025-02-09T22:57:34.724Z"
   },
   {
    "duration": 7,
    "start_time": "2025-02-09T22:57:46.769Z"
   },
   {
    "duration": 50,
    "start_time": "2025-02-09T22:57:58.369Z"
   },
   {
    "duration": 22,
    "start_time": "2025-02-09T22:58:34.833Z"
   },
   {
    "duration": 35,
    "start_time": "2025-02-09T22:58:45.120Z"
   },
   {
    "duration": 46,
    "start_time": "2025-02-09T22:58:58.847Z"
   },
   {
    "duration": 8,
    "start_time": "2025-02-09T22:59:09.871Z"
   },
   {
    "duration": 2662,
    "start_time": "2025-02-09T22:59:24.153Z"
   },
   {
    "duration": 79,
    "start_time": "2025-02-09T23:01:12.146Z"
   },
   {
    "duration": 5,
    "start_time": "2025-02-09T23:01:54.617Z"
   },
   {
    "duration": 92,
    "start_time": "2025-02-09T23:02:32.668Z"
   },
   {
    "duration": 872,
    "start_time": "2025-02-09T23:03:02.057Z"
   },
   {
    "duration": 587,
    "start_time": "2025-02-09T23:04:06.952Z"
   },
   {
    "duration": 10,
    "start_time": "2025-02-09T23:04:29.269Z"
   },
   {
    "duration": 40,
    "start_time": "2025-02-09T23:05:26.553Z"
   },
   {
    "duration": 122,
    "start_time": "2025-02-09T23:05:40.491Z"
   },
   {
    "duration": 10,
    "start_time": "2025-02-09T23:05:53.959Z"
   },
   {
    "duration": 5,
    "start_time": "2025-02-09T23:06:04.018Z"
   },
   {
    "duration": 5,
    "start_time": "2025-02-09T23:06:22.500Z"
   },
   {
    "duration": 11,
    "start_time": "2025-02-09T23:06:54.952Z"
   },
   {
    "duration": 9,
    "start_time": "2025-02-09T23:07:43.150Z"
   },
   {
    "duration": 7,
    "start_time": "2025-02-09T23:07:59.584Z"
   },
   {
    "duration": 5,
    "start_time": "2025-02-09T23:08:20.621Z"
   },
   {
    "duration": 11,
    "start_time": "2025-02-09T23:08:22.843Z"
   },
   {
    "duration": 9,
    "start_time": "2025-02-09T23:08:43.979Z"
   },
   {
    "duration": 8,
    "start_time": "2025-02-09T23:08:56.614Z"
   },
   {
    "duration": 9,
    "start_time": "2025-02-09T23:09:13.279Z"
   },
   {
    "duration": 11,
    "start_time": "2025-02-09T23:09:33.877Z"
   },
   {
    "duration": 8,
    "start_time": "2025-02-09T23:10:14.870Z"
   },
   {
    "duration": 8,
    "start_time": "2025-02-09T23:10:26.286Z"
   },
   {
    "duration": 8,
    "start_time": "2025-02-09T23:10:36.781Z"
   },
   {
    "duration": 8,
    "start_time": "2025-02-09T23:10:53.044Z"
   },
   {
    "duration": 7,
    "start_time": "2025-02-09T23:11:03.959Z"
   },
   {
    "duration": 8,
    "start_time": "2025-02-09T23:11:17.743Z"
   },
   {
    "duration": 10,
    "start_time": "2025-02-09T23:11:35.344Z"
   },
   {
    "duration": 8,
    "start_time": "2025-02-09T23:11:44.727Z"
   },
   {
    "duration": 9,
    "start_time": "2025-02-09T23:11:55.095Z"
   },
   {
    "duration": 8,
    "start_time": "2025-02-09T23:12:05.329Z"
   },
   {
    "duration": 1457,
    "start_time": "2025-02-10T18:29:31.591Z"
   },
   {
    "duration": 9,
    "start_time": "2025-02-10T18:29:33.052Z"
   },
   {
    "duration": 28,
    "start_time": "2025-02-10T18:29:33.064Z"
   },
   {
    "duration": 7,
    "start_time": "2025-02-10T18:29:56.206Z"
   },
   {
    "duration": 20,
    "start_time": "2025-02-10T18:29:57.796Z"
   },
   {
    "duration": 179,
    "start_time": "2025-02-10T18:29:58.917Z"
   },
   {
    "duration": 27,
    "start_time": "2025-02-10T18:29:59.222Z"
   },
   {
    "duration": 12,
    "start_time": "2025-02-10T18:30:01.069Z"
   },
   {
    "duration": 75,
    "start_time": "2025-02-10T18:30:02.667Z"
   },
   {
    "duration": 22,
    "start_time": "2025-02-10T18:30:35.343Z"
   },
   {
    "duration": 40,
    "start_time": "2025-02-10T18:30:36.253Z"
   },
   {
    "duration": 47,
    "start_time": "2025-02-10T18:30:36.559Z"
   },
   {
    "duration": 7,
    "start_time": "2025-02-10T18:30:36.778Z"
   },
   {
    "duration": 3434,
    "start_time": "2025-02-10T18:30:37.372Z"
   },
   {
    "duration": 82,
    "start_time": "2025-02-10T18:31:02.568Z"
   },
   {
    "duration": 5,
    "start_time": "2025-02-10T18:31:09.540Z"
   },
   {
    "duration": 5,
    "start_time": "2025-02-10T18:31:39.069Z"
   },
   {
    "duration": 94,
    "start_time": "2025-02-10T18:31:41.077Z"
   },
   {
    "duration": 519,
    "start_time": "2025-02-10T18:31:44.009Z"
   },
   {
    "duration": 521,
    "start_time": "2025-02-10T18:31:44.531Z"
   },
   {
    "duration": 8,
    "start_time": "2025-02-10T18:31:58.953Z"
   },
   {
    "duration": 29,
    "start_time": "2025-02-10T18:32:03.009Z"
   },
   {
    "duration": 105,
    "start_time": "2025-02-10T18:32:30.542Z"
   },
   {
    "duration": 8,
    "start_time": "2025-02-10T18:32:31.255Z"
   },
   {
    "duration": 5,
    "start_time": "2025-02-10T18:32:32.078Z"
   },
   {
    "duration": 5,
    "start_time": "2025-02-10T18:32:32.331Z"
   },
   {
    "duration": 9,
    "start_time": "2025-02-10T18:32:38.220Z"
   },
   {
    "duration": 8,
    "start_time": "2025-02-10T18:32:57.608Z"
   },
   {
    "duration": 8,
    "start_time": "2025-02-10T18:32:57.962Z"
   },
   {
    "duration": 8,
    "start_time": "2025-02-10T18:33:01.123Z"
   },
   {
    "duration": 7,
    "start_time": "2025-02-10T18:33:01.640Z"
   },
   {
    "duration": 8,
    "start_time": "2025-02-10T18:33:03.037Z"
   },
   {
    "duration": 7,
    "start_time": "2025-02-10T18:33:03.499Z"
   },
   {
    "duration": 7,
    "start_time": "2025-02-10T18:33:10.022Z"
   },
   {
    "duration": 8,
    "start_time": "2025-02-10T18:33:10.797Z"
   },
   {
    "duration": 8,
    "start_time": "2025-02-10T18:33:11.271Z"
   },
   {
    "duration": 8,
    "start_time": "2025-02-10T18:33:11.698Z"
   },
   {
    "duration": 8,
    "start_time": "2025-02-10T18:33:14.984Z"
   },
   {
    "duration": 8,
    "start_time": "2025-02-10T18:33:15.197Z"
   },
   {
    "duration": 7,
    "start_time": "2025-02-10T18:33:15.438Z"
   },
   {
    "duration": 8,
    "start_time": "2025-02-10T18:33:17.337Z"
   },
   {
    "duration": 7,
    "start_time": "2025-02-10T18:33:17.528Z"
   },
   {
    "duration": 7,
    "start_time": "2025-02-10T18:33:18.041Z"
   },
   {
    "duration": 17,
    "start_time": "2025-02-10T18:38:36.162Z"
   },
   {
    "duration": 14,
    "start_time": "2025-02-10T18:39:07.928Z"
   },
   {
    "duration": 17,
    "start_time": "2025-02-10T18:39:26.020Z"
   }
  ],
  "kernelspec": {
   "display_name": "Python 3 (ipykernel)",
   "language": "python",
   "name": "python3"
  },
  "language_info": {
   "codemirror_mode": {
    "name": "ipython",
    "version": 3
   },
   "file_extension": ".py",
   "mimetype": "text/x-python",
   "name": "python",
   "nbconvert_exporter": "python",
   "pygments_lexer": "ipython3",
   "version": "3.9.19"
  },
  "toc": {
   "base_numbering": 1,
   "nav_menu": {},
   "number_sections": true,
   "sideBar": true,
   "skip_h1_title": true,
   "title_cell": "Table of Contents",
   "title_sidebar": "Contents",
   "toc_cell": false,
   "toc_position": {},
   "toc_section_display": true,
   "toc_window_display": false
  }
 },
 "nbformat": 4,
 "nbformat_minor": 2
}
